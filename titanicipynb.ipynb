{
  "nbformat": 4,
  "nbformat_minor": 0,
  "metadata": {
    "colab": {
      "provenance": [],
      "authorship_tag": "ABX9TyOl+FjooQ/SECMeY1st642W",
      "include_colab_link": true
    },
    "kernelspec": {
      "name": "python3",
      "display_name": "Python 3"
    },
    "language_info": {
      "name": "python"
    }
  },
  "cells": [
    {
      "cell_type": "markdown",
      "metadata": {
        "id": "view-in-github",
        "colab_type": "text"
      },
      "source": [
        "<a href=\"https://colab.research.google.com/github/JinaBobby/Rainfall-prediction-using-ml/blob/main/titanicipynb.ipynb\" target=\"_parent\"><img src=\"https://colab.research.google.com/assets/colab-badge.svg\" alt=\"Open In Colab\"/></a>"
      ]
    },
    {
      "cell_type": "markdown",
      "source": [
        "TASK 1\n",
        "\n",
        "The Titanic dataset to build a model that predicts whether a passenger on the Titanic survived or not."
      ],
      "metadata": {
        "id": "ZKZ6Y0ke612H"
      }
    },
    {
      "cell_type": "markdown",
      "source": [
        "Importing necessary libraries"
      ],
      "metadata": {
        "id": "kFt2SJe17xoV"
      }
    },
    {
      "cell_type": "code",
      "source": [
        "import pandas as pd\n",
        "import numpy as np\n",
        "import seaborn as sns\n",
        "import matplotlib.pyplot as plt\n",
        "from sklearn.model_selection import train_test_split, cross_val_score\n",
        "from sklearn.preprocessing import LabelEncoder, StandardScaler\n",
        "from sklearn.impute import SimpleImputer\n",
        "from sklearn.ensemble import RandomForestClassifier\n",
        "from sklearn.linear_model import LogisticRegression\n",
        "from sklearn.metrics import accuracy_score, classification_report,precision_score, recall_score, f1_score, classification_report, confusion_matrix,roc_auc_score\n",
        "from sklearn.ensemble import RandomForestClassifier\n",
        "from sklearn.tree import  DecisionTreeClassifier"
      ],
      "metadata": {
        "id": "6tT1lQnU67Rq"
      },
      "execution_count": null,
      "outputs": []
    },
    {
      "cell_type": "markdown",
      "source": [
        "load downloaded datset"
      ],
      "metadata": {
        "id": "iVfeqw1u7tG9"
      }
    },
    {
      "cell_type": "code",
      "source": [
        "Data= pd.read_csv(\"tested.csv\")"
      ],
      "metadata": {
        "id": "ccqhfMan7nFT"
      },
      "execution_count": null,
      "outputs": []
    },
    {
      "cell_type": "code",
      "source": [
        "print(Data.head())"
      ],
      "metadata": {
        "colab": {
          "base_uri": "https://localhost:8080/"
        },
        "id": "DrBebGhPE4qp",
        "outputId": "676d93c9-0ec0-4a24-97b2-0f0fee2a8c0d"
      },
      "execution_count": null,
      "outputs": [
        {
          "output_type": "stream",
          "name": "stdout",
          "text": [
            "   PassengerId  Survived  Pclass  \\\n",
            "0          892         0       3   \n",
            "1          893         1       3   \n",
            "2          894         0       2   \n",
            "3          895         0       3   \n",
            "4          896         1       3   \n",
            "\n",
            "                                           Name     Sex   Age  SibSp  Parch  \\\n",
            "0                              Kelly, Mr. James    male  34.5      0      0   \n",
            "1              Wilkes, Mrs. James (Ellen Needs)  female  47.0      1      0   \n",
            "2                     Myles, Mr. Thomas Francis    male  62.0      0      0   \n",
            "3                              Wirz, Mr. Albert    male  27.0      0      0   \n",
            "4  Hirvonen, Mrs. Alexander (Helga E Lindqvist)  female  22.0      1      1   \n",
            "\n",
            "    Ticket     Fare Cabin Embarked  \n",
            "0   330911   7.8292   NaN        Q  \n",
            "1   363272   7.0000   NaN        S  \n",
            "2   240276   9.6875   NaN        Q  \n",
            "3   315154   8.6625   NaN        S  \n",
            "4  3101298  12.2875   NaN        S  \n"
          ]
        }
      ]
    },
    {
      "cell_type": "code",
      "source": [
        "Data.info()"
      ],
      "metadata": {
        "colab": {
          "base_uri": "https://localhost:8080/"
        },
        "id": "aSQdmBBP8Iwv",
        "outputId": "86f7c8a0-905f-41f7-b099-75505608cdb0"
      },
      "execution_count": null,
      "outputs": [
        {
          "output_type": "stream",
          "name": "stdout",
          "text": [
            "<class 'pandas.core.frame.DataFrame'>\n",
            "RangeIndex: 418 entries, 0 to 417\n",
            "Data columns (total 12 columns):\n",
            " #   Column       Non-Null Count  Dtype  \n",
            "---  ------       --------------  -----  \n",
            " 0   PassengerId  418 non-null    int64  \n",
            " 1   Survived     418 non-null    int64  \n",
            " 2   Pclass       418 non-null    int64  \n",
            " 3   Name         418 non-null    object \n",
            " 4   Sex          418 non-null    object \n",
            " 5   Age          332 non-null    float64\n",
            " 6   SibSp        418 non-null    int64  \n",
            " 7   Parch        418 non-null    int64  \n",
            " 8   Ticket       418 non-null    object \n",
            " 9   Fare         417 non-null    float64\n",
            " 10  Cabin        91 non-null     object \n",
            " 11  Embarked     418 non-null    object \n",
            "dtypes: float64(2), int64(5), object(5)\n",
            "memory usage: 39.3+ KB\n"
          ]
        }
      ]
    },
    {
      "cell_type": "code",
      "source": [
        "Data.shape"
      ],
      "metadata": {
        "colab": {
          "base_uri": "https://localhost:8080/"
        },
        "id": "BDvBQigQH9yw",
        "outputId": "d86f05c8-3e82-42ef-cd1b-7a0c52119d84"
      },
      "execution_count": null,
      "outputs": [
        {
          "output_type": "execute_result",
          "data": {
            "text/plain": [
              "(418, 12)"
            ]
          },
          "metadata": {},
          "execution_count": 30
        }
      ]
    },
    {
      "cell_type": "code",
      "source": [
        "print(Data.isnull().sum())"
      ],
      "metadata": {
        "colab": {
          "base_uri": "https://localhost:8080/"
        },
        "id": "GToVJLVg8Yfr",
        "outputId": "446ac634-bbc7-4dac-e50f-6b7d6f9ddfcf"
      },
      "execution_count": null,
      "outputs": [
        {
          "output_type": "stream",
          "name": "stdout",
          "text": [
            "PassengerId      0\n",
            "Survived         0\n",
            "Pclass           0\n",
            "Name             0\n",
            "Sex              0\n",
            "Age             86\n",
            "SibSp            0\n",
            "Parch            0\n",
            "Ticket           0\n",
            "Fare             1\n",
            "Cabin          327\n",
            "Embarked         0\n",
            "dtype: int64\n"
          ]
        }
      ]
    },
    {
      "cell_type": "markdown",
      "source": [
        "It shows the count of missing (null) values in each column.Here, 86 null values are found in column named Age,327 null values are found in coulmn named Cabin and 1 null value found in column named Fare.\n"
      ],
      "metadata": {
        "id": "b-z-liah9U38"
      }
    },
    {
      "cell_type": "code",
      "source": [
        "from pickle import FALSE\n",
        "sns.heatmap(Data.isnull(), cbar=False, cmap='coolwarm')\n",
        "plt.title(\"Missing Values Heatmap\")\n",
        "plt.show()"
      ],
      "metadata": {
        "colab": {
          "base_uri": "https://localhost:8080/",
          "height": 522
        },
        "id": "XmPlRd1J8e3Q",
        "outputId": "e83a3327-2222-4299-a5ef-5f24e39c530e"
      },
      "execution_count": null,
      "outputs": [
        {
          "output_type": "display_data",
          "data": {
            "text/plain": [
              "<Figure size 640x480 with 1 Axes>"
            ],
            "image/png": "[encoded data removed]"
          },
          "metadata": {}
        }
      ]
    },
    {
      "cell_type": "markdown",
      "source": [
        "It is a visual representation of the given dataset inorder to identify the column with most missing values , null values are shown as red colour.It is clear that column cabin contains more null values."
      ],
      "metadata": {
        "id": "MQcW-ne8Jn1f"
      }
    },
    {
      "cell_type": "code",
      "source": [
        "Data.duplicated().sum()"
      ],
      "metadata": {
        "colab": {
          "base_uri": "https://localhost:8080/"
        },
        "id": "CzjRjVIRJXUC",
        "outputId": "1119070c-24e1-4e03-99d6-5c66c7d9aa9a"
      },
      "execution_count": null,
      "outputs": [
        {
          "output_type": "execute_result",
          "data": {
            "text/plain": [
              "np.int64(0)"
            ]
          },
          "metadata": {},
          "execution_count": 51
        }
      ]
    },
    {
      "cell_type": "code",
      "source": [
        "Data = Data.drop_duplicates()"
      ],
      "metadata": {
        "id": "5C8-sdxVJUFx"
      },
      "execution_count": null,
      "outputs": []
    },
    {
      "cell_type": "code",
      "source": [
        "Data=Data.drop(['PassengerId', 'Name', 'Ticket', 'Cabin'], axis=1)"
      ],
      "metadata": {
        "id": "u6xEOfdoBjOP"
      },
      "execution_count": null,
      "outputs": []
    },
    {
      "cell_type": "code",
      "source": [
        "print(Data.head())"
      ],
      "metadata": {
        "colab": {
          "base_uri": "https://localhost:8080/"
        },
        "id": "CJrGpqgWcTTE",
        "outputId": "05374ef0-abff-4dd4-fa95-292fe58281ba"
      },
      "execution_count": null,
      "outputs": [
        {
          "output_type": "stream",
          "name": "stdout",
          "text": [
            "   Survived  Pclass     Sex   Age  SibSp  Parch     Fare Embarked\n",
            "0         0       3    male  34.5      0      0   7.8292        Q\n",
            "1         1       3  female  47.0      1      0   7.0000        S\n",
            "2         0       2    male  62.0      0      0   9.6875        Q\n",
            "3         0       3    male  27.0      0      0   8.6625        S\n",
            "4         1       3  female  22.0      1      1  12.2875        S\n"
          ]
        }
      ]
    },
    {
      "cell_type": "code",
      "source": [
        "Data['Age'] = Data['Age'].fillna(Data['Age'].median())"
      ],
      "metadata": {
        "id": "4vwn1cSs-Jdz"
      },
      "execution_count": null,
      "outputs": []
    },
    {
      "cell_type": "code",
      "source": [
        "Data['Fare'] = Data['Fare'].fillna(Data['Fare'].median())"
      ],
      "metadata": {
        "id": "s5bDdHqRCcmJ"
      },
      "execution_count": null,
      "outputs": []
    },
    {
      "cell_type": "markdown",
      "source": [
        "for handling missing values , delete the unwanted columns and apply median value across the null values using fillna() fucntion."
      ],
      "metadata": {
        "id": "dmoFjtc1BrRp"
      }
    },
    {
      "cell_type": "code",
      "source": [
        "Data.columns = Data.columns.str.strip()"
      ],
      "metadata": {
        "id": "NPht4kjrET_e"
      },
      "execution_count": null,
      "outputs": []
    },
    {
      "cell_type": "code",
      "source": [
        "le = LabelEncoder()\n",
        "Data['Sex'] = le.fit_transform(Data['Sex'])\n",
        "Data['Embarked'] = le.fit_transform(Data['Embarked'])"
      ],
      "metadata": {
        "id": "TCrkKlZ5ASx6"
      },
      "execution_count": null,
      "outputs": []
    },
    {
      "cell_type": "code",
      "source": [
        "print(Data.head())"
      ],
      "metadata": {
        "colab": {
          "base_uri": "https://localhost:8080/"
        },
        "id": "TkMyknWvFjo0",
        "outputId": "6abc170d-955a-4ac5-b6da-dc7be25b2a42"
      },
      "execution_count": null,
      "outputs": [
        {
          "output_type": "stream",
          "name": "stdout",
          "text": [
            "   Survived  Pclass  Sex   Age  SibSp  Parch     Fare  Embarked\n",
            "0         0       3    1  34.5      0      0   7.8292         1\n",
            "1         1       3    0  47.0      1      0   7.0000         2\n",
            "2         0       2    1  62.0      0      0   9.6875         1\n",
            "3         0       3    1  27.0      0      0   8.6625         2\n",
            "4         1       3    0  22.0      1      1  12.2875         2\n"
          ]
        }
      ]
    },
    {
      "cell_type": "markdown",
      "source": [
        "Categorical values are identified and changed into numerical values using LabelEncoder() function."
      ],
      "metadata": {
        "id": "_ILbRWOgFHbU"
      }
    },
    {
      "cell_type": "code",
      "source": [
        "features = Data.drop('Survived', axis=1)\n",
        "target = Data['Survived']\n",
        "'''\n",
        "scaler = StandardScaler()\n",
        "features_scaled = scaler.fit_transform(features)\n",
        "'''"
      ],
      "metadata": {
        "id": "KLqi693GFG5Y"
      },
      "execution_count": null,
      "outputs": []
    },
    {
      "cell_type": "code",
      "source": [
        "print(features)"
      ],
      "metadata": {
        "colab": {
          "base_uri": "https://localhost:8080/"
        },
        "id": "X6bkq-ELhBZi",
        "outputId": "511c564a-544d-455a-bccf-36b2decfb24a"
      },
      "execution_count": null,
      "outputs": [
        {
          "output_type": "stream",
          "name": "stdout",
          "text": [
            "     Pclass  Sex   Age  SibSp  Parch      Fare  Embarked\n",
            "0         3    1  34.5      0      0    7.8292         1\n",
            "1         3    0  47.0      1      0    7.0000         2\n",
            "2         2    1  62.0      0      0    9.6875         1\n",
            "3         3    1  27.0      0      0    8.6625         2\n",
            "4         3    0  22.0      1      1   12.2875         2\n",
            "..      ...  ...   ...    ...    ...       ...       ...\n",
            "413       3    1  27.0      0      0    8.0500         2\n",
            "414       1    0  39.0      0      0  108.9000         0\n",
            "415       3    1  38.5      0      0    7.2500         2\n",
            "416       3    1  27.0      0      0    8.0500         2\n",
            "417       3    1  27.0      1      1   22.3583         0\n",
            "\n",
            "[418 rows x 7 columns]\n"
          ]
        }
      ]
    },
    {
      "cell_type": "code",
      "source": [
        "print(target)"
      ],
      "metadata": {
        "colab": {
          "base_uri": "https://localhost:8080/"
        },
        "id": "jg7dVBWhhZx1",
        "outputId": "6f2d7c3d-2218-4f45-ee77-45bb61090022"
      },
      "execution_count": null,
      "outputs": [
        {
          "output_type": "stream",
          "name": "stdout",
          "text": [
            "0      0\n",
            "1      1\n",
            "2      0\n",
            "3      0\n",
            "4      1\n",
            "      ..\n",
            "413    0\n",
            "414    1\n",
            "415    0\n",
            "416    0\n",
            "417    0\n",
            "Name: Survived, Length: 418, dtype: int64\n"
          ]
        }
      ]
    },
    {
      "cell_type": "code",
      "source": [
        "X_train, X_test, y_train, y_test = train_test_split(features, target, test_size=0.2,stratify=target, random_state=42)\n",
        "scaler = StandardScaler()\n",
        "X_train_scaled = scaler.fit_transform(X_train)\n",
        "X_test_scaled = scaler.transform(X_test)\n"
      ],
      "metadata": {
        "id": "ajhGhIgdFtEj"
      },
      "execution_count": null,
      "outputs": []
    },
    {
      "cell_type": "code",
      "source": [
        "print(X_train)\n",
        "print(y_train)"
      ],
      "metadata": {
        "colab": {
          "base_uri": "https://localhost:8080/"
        },
        "id": "qNc_rWQXdid-",
        "outputId": "b9993d29-dc71-4441-ebd1-ca1aad03a97b"
      },
      "execution_count": null,
      "outputs": [
        {
          "output_type": "stream",
          "name": "stdout",
          "text": [
            "     Pclass  Sex    Age  SibSp  Parch     Fare  Embarked\n",
            "163       3    1  27.00      0      0   7.0000         2\n",
            "223       3    1  21.00      0      0   7.7958         2\n",
            "183       3    1  27.00      0      0   7.7500         1\n",
            "21        3    1   9.00      0      1   3.1708         2\n",
            "111       3    0  27.00      0      0   7.7792         1\n",
            "..      ...  ...    ...    ...    ...      ...       ...\n",
            "58        3    1  27.00      1      0  16.1000         2\n",
            "287       1    1  24.00      1      0  82.2667         2\n",
            "307       3    1   0.83      0      1   9.3500         2\n",
            "93        3    1  27.00      0      0   8.0500         2\n",
            "228       3    1  40.50      0      0  15.1000         2\n",
            "\n",
            "[334 rows x 7 columns]\n",
            "163    0\n",
            "223    0\n",
            "183    0\n",
            "21     0\n",
            "111    1\n",
            "      ..\n",
            "58     0\n",
            "287    0\n",
            "307    0\n",
            "93     0\n",
            "228    0\n",
            "Name: Survived, Length: 334, dtype: int64\n"
          ]
        }
      ]
    },
    {
      "cell_type": "markdown",
      "source": [
        "Trying different models\n",
        "\n",
        "1 Random Forest\n",
        "\n",
        "2 logistic regression\n",
        "\n",
        "3 DecisionTreeClassifier\n",
        "\n",
        "4 GradientBoost\n",
        "\n",
        "5 svm\n"
      ],
      "metadata": {
        "id": "4davNDnclwhh"
      }
    },
    {
      "cell_type": "code",
      "source": [
        "model1= RandomForestClassifier(n_estimators=100, random_state=42)\n",
        "scores = cross_val_score(model1, features, target, cv=4, scoring='f1')\n",
        "model1.fit(X_train_scaled , y_train)\n",
        "print(\"Cross-validated F1 scores:\", scores)\n",
        "print(\"Average F1:\", scores.mean())"
      ],
      "metadata": {
        "colab": {
          "base_uri": "https://localhost:8080/"
        },
        "id": "WQ9QKH8xF3bX",
        "outputId": "b1a9f28a-0231-4b9d-fe9b-9149c08eec1d"
      },
      "execution_count": null,
      "outputs": [
        {
          "output_type": "stream",
          "name": "stdout",
          "text": [
            "Cross-validated F1 scores: [1. 1. 1. 1.]\n",
            "Average F1: 1.0\n"
          ]
        }
      ]
    },
    {
      "cell_type": "code",
      "source": [
        "y_pred1 = model1.predict(X_test)\n",
        "print(\"Accuracy:\", accuracy_score(y_test, y_pred1))\n",
        "print(\"Precision:\", precision_score(y_test, y_pred1))\n",
        "print(\"Recall:\", recall_score(y_test, y_pred1))\n",
        "print(\"F1 Score:\", f1_score(y_test, y_pred1))\n",
        "print(\"\\nClassification Report:\\n\", classification_report(y_test, y_pred1))"
      ],
      "metadata": {
        "colab": {
          "base_uri": "https://localhost:8080/"
        },
        "id": "bclRXIooKQqe",
        "outputId": "c728b481-5a44-4e20-cf89-409f80648947"
      },
      "execution_count": null,
      "outputs": [
        {
          "output_type": "stream",
          "name": "stdout",
          "text": [
            "Accuracy: 0.6309523809523809\n",
            "Precision: 0.0\n",
            "Recall: 0.0\n",
            "F1 Score: 0.0\n",
            "\n",
            "Classification Report:\n",
            "               precision    recall  f1-score   support\n",
            "\n",
            "           0       0.63      1.00      0.77        53\n",
            "           1       0.00      0.00      0.00        31\n",
            "\n",
            "    accuracy                           0.63        84\n",
            "   macro avg       0.32      0.50      0.39        84\n",
            "weighted avg       0.40      0.63      0.49        84\n",
            "\n"
          ]
        },
        {
          "output_type": "stream",
          "name": "stderr",
          "text": [
            "/usr/local/lib/python3.11/dist-packages/sklearn/utils/validation.py:2732: UserWarning: X has feature names, but RandomForestClassifier was fitted without feature names\n",
            "  warnings.warn(\n",
            "/usr/local/lib/python3.11/dist-packages/sklearn/metrics/_classification.py:1565: UndefinedMetricWarning: Precision is ill-defined and being set to 0.0 due to no predicted samples. Use `zero_division` parameter to control this behavior.\n",
            "  _warn_prf(average, modifier, f\"{metric.capitalize()} is\", len(result))\n",
            "/usr/local/lib/python3.11/dist-packages/sklearn/metrics/_classification.py:1565: UndefinedMetricWarning: Precision is ill-defined and being set to 0.0 in labels with no predicted samples. Use `zero_division` parameter to control this behavior.\n",
            "  _warn_prf(average, modifier, f\"{metric.capitalize()} is\", len(result))\n",
            "/usr/local/lib/python3.11/dist-packages/sklearn/metrics/_classification.py:1565: UndefinedMetricWarning: Precision is ill-defined and being set to 0.0 in labels with no predicted samples. Use `zero_division` parameter to control this behavior.\n",
            "  _warn_prf(average, modifier, f\"{metric.capitalize()} is\", len(result))\n",
            "/usr/local/lib/python3.11/dist-packages/sklearn/metrics/_classification.py:1565: UndefinedMetricWarning: Precision is ill-defined and being set to 0.0 in labels with no predicted samples. Use `zero_division` parameter to control this behavior.\n",
            "  _warn_prf(average, modifier, f\"{metric.capitalize()} is\", len(result))\n"
          ]
        }
      ]
    },
    {
      "cell_type": "code",
      "source": [
        "cm1= confusion_matrix(y_test, y_pred1)\n",
        "print(\"Confusion Matrix:\")\n",
        "print(cm1)\n",
        "plt.figure(figsize=(6,4))\n",
        "sns.heatmap(cm1, annot=True, fmt='d', cmap='Blues',\n",
        "            xticklabels=['Did Not Survive', 'Survived'],\n",
        "            yticklabels=['Did Not Survive', 'Survived'])\n",
        "plt.xlabel('Predicted Label')\n",
        "plt.ylabel('True Label')\n",
        "plt.title('Confusion Matrix -random forest')\n",
        "plt.show()"
      ],
      "metadata": {
        "colab": {
          "base_uri": "https://localhost:8080/",
          "height": 462
        },
        "id": "z7EOzu-_u3xy",
        "outputId": "610dd4de-4310-43c6-f1c3-fc0b2e59d02a"
      },
      "execution_count": null,
      "outputs": [
        {
          "output_type": "stream",
          "name": "stdout",
          "text": [
            "Confusion Matrix:\n",
            "[[53  0]\n",
            " [31  0]]\n"
          ]
        },
        {
          "output_type": "display_data",
          "data": {
            "text/plain": [
              "<Figure size 600x400 with 2 Axes>"
            ],
            "image/png": "[encoded data removed]"
          },
          "metadata": {}
        }
      ]
    },
    {
      "cell_type": "code",
      "source": [
        "example_passenger = [\n",
        "    3,      # Pclass: 1st\n",
        "    0,      # Sex: female\n",
        "   27.0,\n",
        "    0,      # SibSp: 0 siblings/spouses aboard\n",
        "    0,      # Parch: 0 parents/children aboard\n",
        " 7.7792,   # Fare: 72 pounds/dollars\n",
        "    1,      # Embarked: S\n",
        "\n",
        "]\n",
        "\n",
        "# Reshape input for single sample prediction\n",
        "X_new = [example_passenger]\n",
        "predicted_class = model1.predict(X_new)\n",
        "\n",
        "if predicted_class[0] == 1:\n",
        "    print(\"The model predicts that this passenger SURVIVED.\")\n",
        "else:\n",
        "    print(\"The model predicts that this passenger DID NOT SURVIVE.\")"
      ],
      "metadata": {
        "colab": {
          "base_uri": "https://localhost:8080/"
        },
        "id": "3Il_rlIa0oPm",
        "outputId": "8a3bd9bc-3e78-4c0b-bb11-d9bcf42f267e"
      },
      "execution_count": null,
      "outputs": [
        {
          "output_type": "stream",
          "name": "stdout",
          "text": [
            "The model predicts that this passenger DID NOT SURVIVE.\n"
          ]
        }
      ]
    },
    {
      "cell_type": "markdown",
      "source": [
        "but actually this passenger survived"
      ],
      "metadata": {
        "id": "PmrkTN8D1T3T"
      }
    },
    {
      "cell_type": "code",
      "source": [
        "example_passenger = [\n",
        "    3,      # Pclass: 1st\n",
        "    0,      # Sex: female\n",
        "    47.0,\n",
        "    1,      # SibSp: 0 siblings/spouses aboard\n",
        "    0,      # Parch: 0 parents/children aboard\n",
        "    7.0000,   # Fare: 72 pounds/dollars\n",
        "    2,      # Embarked: S\n",
        "\n",
        "]\n",
        "\n",
        "# Reshape input for single sample prediction\n",
        "X_new = [example_passenger]\n",
        "predicted_class = model1.predict(X_new)\n",
        "\n",
        "if predicted_class[0] == 1:\n",
        "    print(\"The model predicts that this passenger SURVIVED.\")\n",
        "else:\n",
        "    print(\"The model predicts that this passenger DID NOT SURVIVE.\")\n"
      ],
      "metadata": {
        "colab": {
          "base_uri": "https://localhost:8080/"
        },
        "id": "d04vHo-3m5z3",
        "outputId": "f923a177-5add-4a2d-c5e0-eb342c5528ac"
      },
      "execution_count": null,
      "outputs": [
        {
          "output_type": "stream",
          "name": "stdout",
          "text": [
            "The model predicts that this passenger DID NOT SURVIVE.\n"
          ]
        }
      ]
    },
    {
      "cell_type": "code",
      "source": [
        "model2=LogisticRegression(max_iter=1000)\n",
        "model2.fit(X_train, y_train)\n",
        "print(model2)"
      ],
      "metadata": {
        "colab": {
          "base_uri": "https://localhost:8080/"
        },
        "id": "Bwp3OT9tMTVx",
        "outputId": "6851eab2-c5c2-46a8-cde4-ed327373d867"
      },
      "execution_count": null,
      "outputs": [
        {
          "output_type": "stream",
          "name": "stdout",
          "text": [
            "LogisticRegression(max_iter=1000)\n"
          ]
        }
      ]
    },
    {
      "cell_type": "code",
      "source": [
        "y_pred2 = model2.predict(X_test)\n",
        "print(\"Accuracy:\", accuracy_score(y_test, y_pred2))\n",
        "print(\"Precision:\", precision_score(y_test, y_pred2))\n",
        "print(\"Recall:\", recall_score(y_test, y_pred2))\n",
        "print(\"F1 Score:\", f1_score(y_test, y_pred2))\n",
        "print(\"\\nClassification Report:\\n\", classification_report(y_test, y_pred2))"
      ],
      "metadata": {
        "colab": {
          "base_uri": "https://localhost:8080/"
        },
        "id": "pHU4BLrFMkiq",
        "outputId": "cd3e0411-15fa-4a9e-ba0c-8423e3b2e446"
      },
      "execution_count": null,
      "outputs": [
        {
          "output_type": "stream",
          "name": "stdout",
          "text": [
            "Accuracy: 1.0\n",
            "Precision: 1.0\n",
            "Recall: 1.0\n",
            "F1 Score: 1.0\n",
            "\n",
            "Classification Report:\n",
            "               precision    recall  f1-score   support\n",
            "\n",
            "           0       1.00      1.00      1.00        53\n",
            "           1       1.00      1.00      1.00        31\n",
            "\n",
            "    accuracy                           1.00        84\n",
            "   macro avg       1.00      1.00      1.00        84\n",
            "weighted avg       1.00      1.00      1.00        84\n",
            "\n"
          ]
        }
      ]
    },
    {
      "cell_type": "code",
      "source": [
        "example_passenger = [\n",
        "    3,      # Pclass: 1st\n",
        "    0,      # Sex: female\n",
        "   27.0,\n",
        "    0,      # SibSp: 0 siblings/spouses aboard\n",
        "    0,      # Parch: 0 parents/children aboard\n",
        " 7.7792,   # Fare: 72 pounds/dollars\n",
        "    1,      # Embarked: S\n",
        "\n",
        "]\n",
        "\n",
        "# Reshape input for single sample prediction\n",
        "X_new = [example_passenger]\n",
        "predicted_class = model2.predict(X_new)\n",
        "\n",
        "if predicted_class[0] == 1:\n",
        "    print(\"The model predicts that this passenger SURVIVED.\")\n",
        "else:\n",
        "    print(\"The model predicts that this passenger DID NOT SURVIVE.\")"
      ],
      "metadata": {
        "colab": {
          "base_uri": "https://localhost:8080/"
        },
        "id": "Fe2yruG6095l",
        "outputId": "871f246d-aca5-40f8-e0a4-93f2931e5fe3"
      },
      "execution_count": null,
      "outputs": [
        {
          "output_type": "stream",
          "name": "stdout",
          "text": [
            "The model predicts that this passenger SURVIVED.\n"
          ]
        },
        {
          "output_type": "stream",
          "name": "stderr",
          "text": [
            "/usr/local/lib/python3.11/dist-packages/sklearn/utils/validation.py:2739: UserWarning: X does not have valid feature names, but LogisticRegression was fitted with feature names\n",
            "  warnings.warn(\n"
          ]
        }
      ]
    },
    {
      "cell_type": "code",
      "source": [
        "example_passenger = [\n",
        "    3,      # Pclass: 1st\n",
        "    0,      # Sex: female\n",
        "    47.0,\n",
        "    1,      # SibSp: 0 siblings/spouses aboard\n",
        "    0,      # Parch: 0 parents/children aboard\n",
        "    7.0000,   # Fare: 72 pounds/dollars\n",
        "    2,      # Embarked: S\n",
        "\n",
        "]\n",
        "X_new = [example_passenger]\n",
        "predicted_class = model2.predict(X_new)\n",
        "\n",
        "if predicted_class[0] == 1:\n",
        "    print(\"The model predicts that this passenger SURVIVED.\")\n",
        "else:\n",
        "    print(\"The model predicts that this passenger DID NOT SURVIVE.\")"
      ],
      "metadata": {
        "colab": {
          "base_uri": "https://localhost:8080/"
        },
        "id": "YDbczQcYy2n6",
        "outputId": "bcc0e9b4-3b55-492e-8316-994298fe5674"
      },
      "execution_count": null,
      "outputs": [
        {
          "output_type": "stream",
          "name": "stdout",
          "text": [
            "The model predicts that this passenger SURVIVED.\n"
          ]
        },
        {
          "output_type": "stream",
          "name": "stderr",
          "text": [
            "/usr/local/lib/python3.11/dist-packages/sklearn/utils/validation.py:2739: UserWarning: X does not have valid feature names, but LogisticRegression was fitted with feature names\n",
            "  warnings.warn(\n"
          ]
        }
      ]
    },
    {
      "cell_type": "code",
      "source": [
        "example_passenger = [\n",
        "    3,      # Pclass: 1st\n",
        "    1,      # Sex: female\n",
        "    27.0,\n",
        "    0,      # SibSp: 0 siblings/spouses aboard\n",
        "    0,      # Parch: 0 parents/children aboard\n",
        "    7.0000,   # Fare: 72 pounds/dollars\n",
        "    2,      # Embarked: S\n",
        "\n",
        "]\n",
        "# Reshape input for single sample prediction\n",
        "X_new = [example_passenger]\n",
        "predicted_class = model2.predict(X_new)\n",
        "\n",
        "if predicted_class[0] == 1:\n",
        "    print(\"The model predicts that this passenger SURVIVED.\")\n",
        "else:\n",
        "    print(\"The model predicts that this passenger DID NOT SURVIVE.\")"
      ],
      "metadata": {
        "colab": {
          "base_uri": "https://localhost:8080/"
        },
        "id": "lOliVHQMzEz9",
        "outputId": "19f86cfd-8168-40d1-deb4-5ae4a8b572dd"
      },
      "execution_count": null,
      "outputs": [
        {
          "output_type": "stream",
          "name": "stdout",
          "text": [
            "The model predicts that this passenger DID NOT SURVIVE.\n"
          ]
        },
        {
          "output_type": "stream",
          "name": "stderr",
          "text": [
            "/usr/local/lib/python3.11/dist-packages/sklearn/utils/validation.py:2739: UserWarning: X does not have valid feature names, but LogisticRegression was fitted with feature names\n",
            "  warnings.warn(\n"
          ]
        }
      ]
    },
    {
      "cell_type": "code",
      "source": [
        "cm2= confusion_matrix(y_test, y_pred2)\n",
        "print(\"Confusion Matrix:\")\n",
        "print(cm2)\n",
        "plt.figure(figsize=(6,4))\n",
        "sns.heatmap(cm2, annot=True, fmt='d', cmap='Blues',\n",
        "            xticklabels=['Did Not Survive', 'Survived'],\n",
        "            yticklabels=['Did Not Survive', 'Survived'])\n",
        "plt.xlabel('Predicted Label')\n",
        "plt.ylabel('True Label')\n",
        "plt.title('Confusion Matrix -Logistic Regression')\n",
        "plt.show()"
      ],
      "metadata": {
        "colab": {
          "base_uri": "https://localhost:8080/",
          "height": 462
        },
        "id": "cItFQ2acvWlk",
        "outputId": "82a175a8-7249-4dd2-eb7a-7914e7f5b35a"
      },
      "execution_count": null,
      "outputs": [
        {
          "output_type": "stream",
          "name": "stdout",
          "text": [
            "Confusion Matrix:\n",
            "[[53  0]\n",
            " [ 0 31]]\n"
          ]
        },
        {
          "output_type": "display_data",
          "data": {
            "text/plain": [
              "<Figure size 600x400 with 2 Axes>"
            ],
            "image/png": "[encoded data removed]"
          },
          "metadata": {}
        }
      ]
    },
    {
      "cell_type": "code",
      "source": [
        "model3 = DecisionTreeClassifier(max_depth=5,min_samples_split=10, min_samples_leaf=5,random_state=42)\n",
        "model3.fit(X_train, y_train)\n",
        "print(model3)"
      ],
      "metadata": {
        "colab": {
          "base_uri": "https://localhost:8080/"
        },
        "id": "YHlRiXc-Uiar",
        "outputId": "3abf1d0b-84a5-4c49-8417-d3df1d67fbeb"
      },
      "execution_count": null,
      "outputs": [
        {
          "output_type": "stream",
          "name": "stdout",
          "text": [
            "DecisionTreeClassifier(max_depth=5, min_samples_leaf=5, min_samples_split=10,\n",
            "                       random_state=42)\n"
          ]
        }
      ]
    },
    {
      "cell_type": "code",
      "source": [
        "cv_accuracy = cross_val_score(model3, X_train, y_train, cv=5, scoring='accuracy')\n",
        "cv_f1 = cross_val_score(model3, X_train, y_train, cv=5, scoring='f1')\n",
        "print(f\"Cross-validated Accuracy scores: {cv_accuracy}\")\n",
        "print(f\"Mean CV Accuracy: {np.mean(cv_accuracy):.4f}\")\n",
        "print(f\"Cross-validated F1 scores: {cv_f1}\")\n",
        "print(f\"Mean CV F1 Score: {np.mean(cv_f1):.4f}\")\n",
        "model3.fit(X_train, y_train)\n",
        "\n",
        "y_pred = model3.predict(X_test)\n",
        "\n",
        "test_accuracy = accuracy_score(y_test, y_pred)\n",
        "test_f1 = f1_score(y_test, y_pred)\n",
        "cm = confusion_matrix(y_test, y_pred)\n",
        "\n",
        "print(f\"\\nTest Accuracy: {test_accuracy:.4f}\")\n",
        "print(f\"Test F1 Score: {test_f1:.4f}\")\n",
        "print(\"Confusion Matrix:\")\n",
        "print(cm)\n",
        "print(\"\\nClassification Report:\")\n",
        "print(classification_report(y_test, y_pred))\n",
        "\n",
        "# Visualize confusion matrix\n",
        "plt.figure(figsize=(6,4))\n",
        "sns.heatmap(cm, annot=True, fmt='d', cmap='Blues',\n",
        "            xticklabels=['Did Not Survive', 'Survived'],\n",
        "            yticklabels=['Did Not Survive', 'Survived'])\n",
        "plt.xlabel('Predicted Label')\n",
        "plt.ylabel('True Label')\n",
        "plt.title('Confusion Matrix - Decision Tree Classifier')\n",
        "plt.show()"
      ],
      "metadata": {
        "colab": {
          "base_uri": "https://localhost:8080/",
          "height": 774
        },
        "id": "4W5nYfLJU4Sy",
        "outputId": "523532c3-9007-423d-e2f2-71003d4de47d"
      },
      "execution_count": null,
      "outputs": [
        {
          "output_type": "stream",
          "name": "stdout",
          "text": [
            "Cross-validated Accuracy scores: [1. 1. 1. 1. 1.]\n",
            "Mean CV Accuracy: 1.0000\n",
            "Cross-validated F1 scores: [1. 1. 1. 1. 1.]\n",
            "Mean CV F1 Score: 1.0000\n",
            "\n",
            "Test Accuracy: 1.0000\n",
            "Test F1 Score: 1.0000\n",
            "Confusion Matrix:\n",
            "[[53  0]\n",
            " [ 0 31]]\n",
            "\n",
            "Classification Report:\n",
            "              precision    recall  f1-score   support\n",
            "\n",
            "           0       1.00      1.00      1.00        53\n",
            "           1       1.00      1.00      1.00        31\n",
            "\n",
            "    accuracy                           1.00        84\n",
            "   macro avg       1.00      1.00      1.00        84\n",
            "weighted avg       1.00      1.00      1.00        84\n",
            "\n"
          ]
        },
        {
          "output_type": "display_data",
          "data": {
            "text/plain": [
              "<Figure size 600x400 with 2 Axes>"
            ],
            "image/png": "[encoded data removed]"
          },
          "metadata": {}
        }
      ]
    },
    {
      "cell_type": "code",
      "source": [
        "example_passenger = [\n",
        "    3,      # Pclass: 1st\n",
        "    1,      # Sex: female\n",
        "    27.0,\n",
        "    0,      # SibSp: 0 siblings/spouses aboard\n",
        "    0,      # Parch: 0 parents/children aboard\n",
        "    7.0000,   # Fare: 72 pounds/dollars\n",
        "    2,      # Embarked: S\n",
        "\n",
        "]\n",
        "# Reshape input for single sample prediction\n",
        "X_new = [example_passenger]\n",
        "predicted_class = model3.predict(X_new)\n",
        "\n",
        "if predicted_class[0] == 1:\n",
        "    print(\"The model predicts that this passenger SURVIVED.\")\n",
        "else:\n",
        "    print(\"The model predicts that this passenger DID NOT SURVIVE.\")"
      ],
      "metadata": {
        "colab": {
          "base_uri": "https://localhost:8080/"
        },
        "id": "pDQUSauBn4cZ",
        "outputId": "67d2ecfe-658f-4a2e-8b7a-5fde06ed9002"
      },
      "execution_count": null,
      "outputs": [
        {
          "output_type": "stream",
          "name": "stdout",
          "text": [
            "The model predicts that this passenger DID NOT SURVIVE.\n"
          ]
        },
        {
          "output_type": "stream",
          "name": "stderr",
          "text": [
            "/usr/local/lib/python3.11/dist-packages/sklearn/utils/validation.py:2739: UserWarning: X does not have valid feature names, but DecisionTreeClassifier was fitted with feature names\n",
            "  warnings.warn(\n"
          ]
        }
      ]
    },
    {
      "cell_type": "code",
      "source": [
        "example_passenger = [\n",
        "    3,      # Pclass: 1st\n",
        "    0,      # Sex: female\n",
        "    47.0,\n",
        "    1,      # SibSp: 0 siblings/spouses aboard\n",
        "    0,      # Parch: 0 parents/children aboard\n",
        "    7.0000,   # Fare: 72 pounds/dollars\n",
        "    2,      # Embarked: S\n",
        "\n",
        "]\n",
        "\n",
        "# Reshape input for single sample prediction\n",
        "X_new = [example_passenger]\n",
        "predicted_class = model3.predict(X_new)\n",
        "\n",
        "if predicted_class[0] == 1:\n",
        "    print(\"The model predicts that this passenger SURVIVED.\")\n",
        "else:\n",
        "    print(\"The model predicts that this passenger DID NOT SURVIVE.\")"
      ],
      "metadata": {
        "colab": {
          "base_uri": "https://localhost:8080/"
        },
        "id": "6dvQxgnRzhKt",
        "outputId": "03ddc3a9-6f8d-476a-e879-3dadf21e5b78"
      },
      "execution_count": null,
      "outputs": [
        {
          "output_type": "stream",
          "name": "stdout",
          "text": [
            "The model predicts that this passenger SURVIVED.\n"
          ]
        },
        {
          "output_type": "stream",
          "name": "stderr",
          "text": [
            "/usr/local/lib/python3.11/dist-packages/sklearn/utils/validation.py:2739: UserWarning: X does not have valid feature names, but DecisionTreeClassifier was fitted with feature names\n",
            "  warnings.warn(\n"
          ]
        }
      ]
    },
    {
      "cell_type": "code",
      "source": [
        "sns.countplot(x='Survived', hue='Sex', data=Data)\n",
        "plt.title('Survival Count by Gender')\n",
        "plt.show()"
      ],
      "metadata": {
        "colab": {
          "base_uri": "https://localhost:8080/",
          "height": 472
        },
        "id": "NdS5dJISHxbZ",
        "outputId": "94718504-49c2-4d45-ef78-972aafbd5d0e"
      },
      "execution_count": null,
      "outputs": [
        {
          "output_type": "display_data",
          "data": {
            "text/plain": [
              "<Figure size 640x480 with 1 Axes>"
            ],
            "image/png": "[encoded data removed]"
          },
          "metadata": {}
        }
      ]
    },
    {
      "cell_type": "code",
      "source": [
        "sns.countplot(x='Survived', data=Data)\n",
        "plt.title('Class Balance - Survived vs Not Survived')\n",
        "plt.show()\n",
        "\n",
        "survival_rate = Data['Survived'].value_counts(normalize=True)\n",
        "print(survival_rate)"
      ],
      "metadata": {
        "colab": {
          "base_uri": "https://localhost:8080/",
          "height": 541
        },
        "id": "5qHGexMfM89D",
        "outputId": "e814420d-0631-4a98-b336-25ac03d90ea0"
      },
      "execution_count": null,
      "outputs": [
        {
          "output_type": "display_data",
          "data": {
            "text/plain": [
              "<Figure size 640x480 with 1 Axes>"
            ],
            "image/png": "[encoded data removed]"
          },
          "metadata": {}
        },
        {
          "output_type": "stream",
          "name": "stdout",
          "text": [
            "Survived\n",
            "0    0.636364\n",
            "1    0.363636\n",
            "Name: proportion, dtype: float64\n"
          ]
        }
      ]
    },
    {
      "cell_type": "code",
      "source": [
        "print(features.columns)"
      ],
      "metadata": {
        "colab": {
          "base_uri": "https://localhost:8080/"
        },
        "id": "XDT3zT-oPphb",
        "outputId": "efdad122-0483-47e6-80e7-94987f6ab98e"
      },
      "execution_count": null,
      "outputs": [
        {
          "output_type": "stream",
          "name": "stdout",
          "text": [
            "Index(['Pclass', 'Sex', 'Age', 'SibSp', 'Parch', 'Fare', 'Embarked', 'Title'], dtype='object')\n"
          ]
        }
      ]
    },
    {
      "cell_type": "code",
      "source": [
        "from sklearn.ensemble import GradientBoostingClassifier\n",
        "gb = GradientBoostingClassifier(\n",
        "    n_estimators=100,\n",
        "    learning_rate=0.1,\n",
        "    max_depth=3,\n",
        "    random_state=42\n",
        ")\n",
        "gb.fit(X_train, y_train)\n",
        "\n",
        "y_pred5 = gb.predict(X_test)\n",
        "y_pred_prob = gb.predict_proba(X_test)[:,1]\n",
        "print(\"Gradient Boosting Classifier:\")\n",
        "print(\"Accuracy:\", accuracy_score(y_test, y_pred5))"
      ],
      "metadata": {
        "id": "oGUhxGUbPrTc",
        "colab": {
          "base_uri": "https://localhost:8080/"
        },
        "outputId": "cf5191cd-832d-43ea-c106-e4576ba9bd5d"
      },
      "execution_count": null,
      "outputs": [
        {
          "output_type": "stream",
          "name": "stdout",
          "text": [
            "Gradient Boosting Classifier:\n",
            "Accuracy: 1.0\n"
          ]
        }
      ]
    },
    {
      "cell_type": "code",
      "source": [
        "xample_passenger = [\n",
        "    3,      # Pclass: 1st\n",
        "    0,      # Sex: female\n",
        "   27.0,\n",
        "    0,      # SibSp: 0 siblings/spouses aboard\n",
        "    0,      # Parch: 0 parents/children aboard\n",
        " 7.7792,   # Fare: 72 pounds/dollars\n",
        "    1,      # Embarked: S\n",
        "\n",
        "]\n",
        "\n",
        "# Reshape input for single sample prediction\n",
        "X_new = [example_passenger]\n",
        "predicted_class =gb.predict(X_new)\n",
        "\n",
        "if predicted_class[0] == 1:\n",
        "    print(\"The model predicts that this passenger SURVIVED.\")\n",
        "else:\n",
        "    print(\"The model predicts that this passenger DID NOT SURVIVE.\")"
      ],
      "metadata": {
        "colab": {
          "base_uri": "https://localhost:8080/"
        },
        "id": "Mzzg_inS1smw",
        "outputId": "8401ad88-cc55-4728-deac-963332f21e08"
      },
      "execution_count": null,
      "outputs": [
        {
          "output_type": "stream",
          "name": "stdout",
          "text": [
            "The model predicts that this passenger SURVIVED.\n"
          ]
        },
        {
          "output_type": "stream",
          "name": "stderr",
          "text": [
            "/usr/local/lib/python3.11/dist-packages/sklearn/utils/validation.py:2739: UserWarning: X does not have valid feature names, but GradientBoostingClassifier was fitted with feature names\n",
            "  warnings.warn(\n"
          ]
        }
      ]
    },
    {
      "cell_type": "code",
      "source": [
        "example_passenger = [\n",
        "    3,      # Pclass: 1st\n",
        "    0,      # Sex: female\n",
        "    47.0,\n",
        "    1,      # SibSp: 0 siblings/spouses aboard\n",
        "    0,      # Parch: 0 parents/children aboard\n",
        "    7.0000,   # Fare: 72 pounds/dollars\n",
        "    2,      # Embarked: S\n",
        "\n",
        "]\n",
        "\n",
        "# Reshape input for single sample prediction\n",
        "X_new = [example_passenger]\n",
        "predicted_class = gb.predict(X_new)\n",
        "\n",
        "if predicted_class[0] == 1:\n",
        "    print(\"The model predicts that this passenger SURVIVED.\")\n",
        "else:\n",
        "    print(\"The model predicts that this passenger DID NOT SURVIVE.\")"
      ],
      "metadata": {
        "colab": {
          "base_uri": "https://localhost:8080/"
        },
        "id": "TWLBopXloYhN",
        "outputId": "89597a48-aebe-446d-d053-b786500f2285"
      },
      "execution_count": null,
      "outputs": [
        {
          "output_type": "stream",
          "name": "stdout",
          "text": [
            "The model predicts that this passenger SURVIVED.\n"
          ]
        },
        {
          "output_type": "stream",
          "name": "stderr",
          "text": [
            "/usr/local/lib/python3.11/dist-packages/sklearn/utils/validation.py:2739: UserWarning: X does not have valid feature names, but GradientBoostingClassifier was fitted with feature names\n",
            "  warnings.warn(\n"
          ]
        }
      ]
    },
    {
      "cell_type": "code",
      "source": [
        "example_passenger = [\n",
        "    3,      # Pclass: 1st\n",
        "    1,      # Sex: female\n",
        "    27.0,\n",
        "    0,      # SibSp: 0 siblings/spouses aboard\n",
        "    0,      # Parch: 0 parents/children aboard\n",
        "    7.0000,   # Fare: 72 pounds/dollars\n",
        "    2,      # Embarked: S\n",
        "\n",
        "]\n",
        "# Reshape input for single sample prediction\n",
        "X_new = [example_passenger]\n",
        "predicted_class = gb.predict(X_new)\n",
        "\n",
        "if predicted_class[0] == 1:\n",
        "    print(\"The model predicts that this passenger SURVIVED.\")\n",
        "else:\n",
        "    print(\"The model predicts that this passenger DID NOT SURVIVE.\")"
      ],
      "metadata": {
        "colab": {
          "base_uri": "https://localhost:8080/"
        },
        "id": "2GzTgqxGon5f",
        "outputId": "9b661642-dd90-4481-966e-e94051bca9f2"
      },
      "execution_count": null,
      "outputs": [
        {
          "output_type": "stream",
          "name": "stdout",
          "text": [
            "The model predicts that this passenger DID NOT SURVIVE.\n"
          ]
        },
        {
          "output_type": "stream",
          "name": "stderr",
          "text": [
            "/usr/local/lib/python3.11/dist-packages/sklearn/utils/validation.py:2739: UserWarning: X does not have valid feature names, but GradientBoostingClassifier was fitted with feature names\n",
            "  warnings.warn(\n"
          ]
        }
      ]
    },
    {
      "cell_type": "code",
      "source": [
        "# Plot confusion matrix heatmap\n",
        "cm = confusion_matrix(y_test, y_pred5)\n",
        "\n",
        "# Display matrix values\n",
        "print(\"Confusion Matrix:\")\n",
        "print(cm)\n",
        "plt.figure(figsize=(6,4))\n",
        "sns.heatmap(cm, annot=True, fmt='d', cmap='Blues',\n",
        "            xticklabels=['Did Not Survive', 'Survived'],\n",
        "            yticklabels=['Did Not Survive', 'Survived'])\n",
        "plt.xlabel('Predicted Label')\n",
        "plt.ylabel('True Label')\n",
        "plt.title('Confusion Matrix - Gradient Boosting Classifier')\n",
        "plt.show()\n",
        "\n"
      ],
      "metadata": {
        "colab": {
          "base_uri": "https://localhost:8080/",
          "height": 462
        },
        "id": "U2luV0KWuVJ7",
        "outputId": "45623340-e1f7-438b-c264-26d47295a3c1"
      },
      "execution_count": null,
      "outputs": [
        {
          "output_type": "stream",
          "name": "stdout",
          "text": [
            "Confusion Matrix:\n",
            "[[53  0]\n",
            " [ 0 31]]\n"
          ]
        },
        {
          "output_type": "display_data",
          "data": {
            "text/plain": [
              "<Figure size 600x400 with 2 Axes>"
            ],
            "image/png": "[encoded data removed]"
          },
          "metadata": {}
        }
      ]
    },
    {
      "cell_type": "code",
      "source": [
        "from sklearn.svm import SVC\n",
        "svm = SVC(\n",
        "    C=1.0,\n",
        "    kernel='rbf',\n",
        "    probability=True,\n",
        "    random_state=42\n",
        ")\n",
        "svm.fit(X_train, y_train)\n",
        "\n",
        "y_pred6 = svm.predict(X_test)\n",
        "y_pred_proba = svm.predict_proba(X_test)[:,1]\n",
        "\n",
        "print(\"Support Vector Machine:\")\n",
        "print(\"Accuracy:\", accuracy_score(y_test, y_pred6))\n",
        "print(\"Precision:\", precision_score(y_test, y_pred6))\n",
        "print(\"Recall:\", recall_score(y_test, y_pred6))\n",
        "print(\"F1 Score:\", f1_score(y_test, y_pred6))\n",
        "print(\"ROC AUC:\", roc_auc_score(y_test, y_pred_proba))\n",
        "print(\"\\nClassification Report:\\n\", classification_report(y_test, y_pred6))\n",
        "print(\"=\"*80)"
      ],
      "metadata": {
        "colab": {
          "base_uri": "https://localhost:8080/"
        },
        "id": "39il4xVwi25i",
        "outputId": "b1d41261-beec-4959-ae88-c816e366a1a4"
      },
      "execution_count": null,
      "outputs": [
        {
          "output_type": "stream",
          "name": "stdout",
          "text": [
            "Support Vector Machine:\n",
            "Accuracy: 0.6190476190476191\n",
            "Precision: 0.4\n",
            "Recall: 0.06451612903225806\n",
            "F1 Score: 0.1111111111111111\n",
            "ROC AUC: 0.7181984175289106\n",
            "\n",
            "Classification Report:\n",
            "               precision    recall  f1-score   support\n",
            "\n",
            "           0       0.63      0.94      0.76        53\n",
            "           1       0.40      0.06      0.11        31\n",
            "\n",
            "    accuracy                           0.62        84\n",
            "   macro avg       0.52      0.50      0.43        84\n",
            "weighted avg       0.55      0.62      0.52        84\n",
            "\n",
            "================================================================================\n"
          ]
        }
      ]
    },
    {
      "cell_type": "code",
      "source": [
        "# Plot confusion matrix heatmap\n",
        "cm = confusion_matrix(y_test, y_pred6)\n",
        "\n",
        "# Display matrix values\n",
        "print(\"Confusion Matrix:\")\n",
        "print(cm)\n",
        "plt.figure(figsize=(6,4))\n",
        "sns.heatmap(cm, annot=True, fmt='d', cmap='Blues',\n",
        "            xticklabels=['Did Not Survive', 'Survived'],\n",
        "            yticklabels=['Did Not Survive', 'Survived'])\n",
        "plt.xlabel('Predicted Label')\n",
        "plt.ylabel('True Label')\n",
        "plt.title('Confusion Matrix - SVM')\n",
        "plt.show()\n"
      ],
      "metadata": {
        "colab": {
          "base_uri": "https://localhost:8080/",
          "height": 462
        },
        "id": "NHuRk2Of2PIp",
        "outputId": "d6fa0951-831c-437b-f8a9-4ffdf4c2720e"
      },
      "execution_count": null,
      "outputs": [
        {
          "output_type": "stream",
          "name": "stdout",
          "text": [
            "Confusion Matrix:\n",
            "[[50  3]\n",
            " [29  2]]\n"
          ]
        },
        {
          "output_type": "display_data",
          "data": {
            "text/plain": [
              "<Figure size 600x400 with 2 Axes>"
            ],
            "image/png": "[encoded data removed]"
          },
          "metadata": {}
        }
      ]
    },
    {
      "cell_type": "code",
      "source": [
        "example_passenger = [\n",
        "    3,      # Pclass: 1st\n",
        "    0,      # Sex: female\n",
        "   27.0,\n",
        "    0,      # SibSp: 0 siblings/spouses aboard\n",
        "    0,      # Parch: 0 parents/children aboard\n",
        " 7.7792,   # Fare: 72 pounds/dollars\n",
        "    1,      # Embarked: S\n",
        "\n",
        "]\n",
        "\n",
        "# Reshape input for single sample prediction\n",
        "X_new = [example_passenger]\n",
        "predicted_class = svm.predict(X_new)\n",
        "\n",
        "if predicted_class[0] == 1:\n",
        "    print(\"The model predicts that this passenger SURVIVED.\")\n",
        "else:\n",
        "    print(\"The model predicts that this passenger DID NOT SURVIVE.\")"
      ],
      "metadata": {
        "colab": {
          "base_uri": "https://localhost:8080/"
        },
        "id": "lUkpiCD52mSH",
        "outputId": "ae904e32-9517-413f-cd15-77f313139129"
      },
      "execution_count": null,
      "outputs": [
        {
          "output_type": "stream",
          "name": "stdout",
          "text": [
            "The model predicts that this passenger DID NOT SURVIVE.\n"
          ]
        },
        {
          "output_type": "stream",
          "name": "stderr",
          "text": [
            "/usr/local/lib/python3.11/dist-packages/sklearn/utils/validation.py:2739: UserWarning: X does not have valid feature names, but SVC was fitted with feature names\n",
            "  warnings.warn(\n"
          ]
        }
      ]
    },
    {
      "cell_type": "markdown",
      "source": [
        "but actually the passenger survived"
      ],
      "metadata": {
        "id": "up0VZ3952ssZ"
      }
    },
    {
      "cell_type": "code",
      "source": [
        "example_passenger = [\n",
        "    3,      # Pclass: 1st\n",
        "    0,      # Sex: female\n",
        "    47.0,\n",
        "    1,      # SibSp: 0 siblings/spouses aboard\n",
        "    0,      # Parch: 0 parents/children aboard\n",
        "    7.0000,   # Fare: 72 pounds/dollars\n",
        "    2,      # Embarked: S\n",
        "\n",
        "]\n",
        "\n",
        "# Reshape input for single sample prediction\n",
        "X_new = [example_passenger]\n",
        "predicted_class = svm.predict(X_new)\n",
        "\n",
        "if predicted_class[0] == 1:\n",
        "    print(\"The model predicts that this passenger SURVIVED.\")\n",
        "else:\n",
        "    print(\"The model predicts that this passenger DID NOT SURVIVE.\")"
      ],
      "metadata": {
        "colab": {
          "base_uri": "https://localhost:8080/"
        },
        "id": "VQFv3atXoeIC",
        "outputId": "0b7db940-e4ff-4848-9e1b-88780d864f65"
      },
      "execution_count": null,
      "outputs": [
        {
          "output_type": "stream",
          "name": "stdout",
          "text": [
            "The model predicts that this passenger DID NOT SURVIVE.\n"
          ]
        },
        {
          "output_type": "stream",
          "name": "stderr",
          "text": [
            "/usr/local/lib/python3.11/dist-packages/sklearn/utils/validation.py:2739: UserWarning: X does not have valid feature names, but SVC was fitted with feature names\n",
            "  warnings.warn(\n"
          ]
        }
      ]
    },
    {
      "cell_type": "markdown",
      "source": [
        "**CONCLUSION**\n",
        "\n",
        "**1 Logistic Regression:**  \n",
        "\n",
        "Efficiency on Small Datasets: It requires fewer computational resources and is less prone to overfitting, making it suitable for smaller datasets.\n",
        "\n",
        "**2 Decision tree:**\n",
        "\n",
        "Pruning to Prevent Overfitting: With appropriate pruning, Decision Trees can generalize well without overfitting, even on small datasets.\n",
        "\n",
        "**3 Gradient Boost:**\n",
        "\n",
        "Handling Bias and Variance: It effectively balances bias and variance, making it robust to overfitting when properly tuned.\n",
        "Performance on Small Datasets: Gradient Boosting often performs well on small to medium-sized datasets, especially when the data has complex patterns.\n",
        "\n",
        "These 3 models performed well in accurate prediction\n",
        "\n",
        "**1 svm:**\n",
        "\n",
        "Complexity with Non-linear Kernels: While SVMs can handle non-linear relationships using kernels, selecting the appropriate kernel and tuning its parameters can be challenging, especially with limited data.\n",
        "\n",
        "Overfitting on Small Datasets: With small datasets, SVMs may overfit, capturing noise instead of the underlying pattern.\n",
        "\n",
        "**2 Random Forest:**\n",
        "\n",
        "Overfitting with Small Data: Random Forests build multiple Decision Trees on bootstrapped samples. With small datasets, these samples can be very similar, leading to overfitting .\n",
        "\n",
        "Lack of Interpretability: The ensemble nature of Random Forests makes them less interpretable compared to single Decision Trees or Logistic Regression"
      ],
      "metadata": {
        "id": "K7ieYSkAsqBV"
      }
    }
  ]
}